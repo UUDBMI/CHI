{
 "cells": [
  {
   "cell_type": "markdown",
   "metadata": {
    "nbgrader": {
     "grade": false,
     "grade_id": "cell-734a1b619773b508",
     "locked": true,
     "schema_version": 1,
     "solution": false
    }
   },
   "source": [
    "# CHI Notebook 1 - Take a look at the data\n",
    "### this notebook is in Python, and the goal is to examine and wrangle the CGM data using Pandas"
   ]
  },
  {
   "cell_type": "markdown",
   "metadata": {
    "nbgrader": {
     "grade": false,
     "grade_id": "cell-8bbc0961dc95376c",
     "locked": true,
     "schema_version": 1,
     "solution": false
    }
   },
   "source": [
    "# Continuous Glucose Monitoring and Activity Levels.\n",
    "\n",
    "![Bryan Gibson](https://securembm.uuhsc.utah.edu/zeus/public/mbm-media/faculty-profile?facultyPK=FM00000406)\n",
    "\n",
    "[Dr. Bryan Gibson](https://medicine.utah.edu/faculty/mddetail.php?facultyID=u0020501#tabAcademic) is a faculty member in the Department of Biomedical Informatics at the University of Utah developing research projects centered around helping patients monitor and adjust their own lifestyles to achieve better health. An example of this is his work with Type 2 diabetes patients.\n",
    "\n",
    "Here is Dr. Gibson's description of this project:\n",
    "\n",
    "**Background:**  Currently most individuals with Type 2 diabetes do not adequately understand their disease or the relation between their lifestyle and their health.  The data collected by wearable sensors could be used to address that problem.\n",
    "\n",
    "**Goal:**  the goal of this project is to provide analysis and  interpretation of the data collected by wearable sensors  for patients with Type 2 Diabetes so that they can understand things like:\n",
    "\n",
    "1. What problems with my  blood sugar  am I having each day?\n",
    "    1. what percent of the day is the person's blood sugar too high?\n",
    "\t1. what percent of the day is the person's blood sugar too low?\n",
    "1. When are those problems occurring ?\n",
    "    1. Provide  a way for patients to visualize the  problems they are having \t\t\t\twith their blood glucose  for each day they \n",
    "    1. Provide  a way for patients to visualize the  problems they are having \t\t\t\twith their blood glucose  by their \"average \" day in the \t\t\t\t\t\tlast week\n",
    "1. Which behaviors are associated with those problems? \n",
    "    1. sleep?\n",
    "    1. diet?\n",
    "    1. activity?\n",
    "1. For each of these behaviors provide an analysis of how these behaviors are associated with the individual's  daily glucose control\n",
    "    1. sleep\n",
    "    1. diet\n",
    "    1. activity\n",
    "\n",
    "\t\t\n",
    "**Definitions:** \n",
    "We will define  a \"blood sugar problem\" as \n",
    "* Low blood sugar < 70mg/dl as a criteria for Hypoglycemia\n",
    "* High blood sugar > 180mg/dl as a criteria for Hyperglycemia \n",
    "\n",
    "In this module we will explore a subset of Dr. Gibson's data. In the process we will have the opportunity to practice writing functions and wrangle data with Pandas. Specifically, we will look at the data from a [continuous glucose monitor](https://www.niddk.nih.gov/health-information/diabetes/overview/managing-diabetes/continuous-glucose-monitoring) and examine the temporal behavior of these measurements.\n",
    "\n",
    "In Notebook 2 you will be exploring this data more fully and answering more clinical questions."
   ]
  },
  {
   "cell_type": "code",
   "execution_count": 1,
   "metadata": {
    "nbgrader": {
     "grade": false,
     "grade_id": "cell-932c5258b17758a5",
     "locked": true,
     "schema_version": 1,
     "solution": false
    }
   },
   "outputs": [],
   "source": [
    "from nose.tools import assert_true, assert_false, \\\n",
    "    assert_almost_equal, assert_equal, assert_raises\n",
    "import numpy as np\n",
    "import warnings\n",
    "warnings.filterwarnings('ignore')"
   ]
  },
  {
   "cell_type": "code",
   "execution_count": 2,
   "metadata": {
    "nbgrader": {
     "grade": false,
     "grade_id": "cell-3789bd0cd2225ddd",
     "locked": true,
     "schema_version": 1,
     "solution": false
    }
   },
   "outputs": [],
   "source": [
    "import pandas as pd\n",
    "import matplotlib.pyplot as plt\n",
    "import time\n",
    "import datetime\n",
    "from ipywidgets import interact, interactive, fixed\n",
    "from collections import Counter"
   ]
  },
  {
   "cell_type": "code",
   "execution_count": 3,
   "metadata": {
    "nbgrader": {
     "grade": false,
     "grade_id": "cell-95291fde97454dd4",
     "locked": true,
     "schema_version": 1,
     "solution": false
    }
   },
   "outputs": [],
   "source": [
    "%matplotlib inline"
   ]
  },
  {
   "cell_type": "markdown",
   "metadata": {
    "nbgrader": {
     "grade": false,
     "grade_id": "cell-b2969daa6ef8b095",
     "locked": true,
     "schema_version": 1,
     "solution": false
    }
   },
   "source": [
    "## Problem 1.  (10 points)\n",
    "\n",
    "Use pandas to read in the file `CGM_vals.csv`. Assign the created DataFrame to a variable `cgm`. Treat `\"Low\"` and `\"High\"` as missing values. Make sure that the column `DisplayTime` contains pandas `Timestamp` types and the column `Value` contains numeric values.\n",
    "\n",
    "The tail of your data should look like this:\n",
    "\n",
    "<table border=\"1\" class=\"dataframe\">\n",
    "  <thead>\n",
    "    <tr style=\"text-align: right;\">\n",
    "      <th></th>\n",
    "      <th>ID</th>\n",
    "      <th>DisplayTime</th>\n",
    "      <th>Value</th>\n",
    "    </tr>\n",
    "  </thead>\n",
    "  <tbody>\n",
    "    <tr>\n",
    "      <th>35766</th>\n",
    "      <td>21</td>\n",
    "      <td>8/30/17 12:11</td>\n",
    "      <td>225.0</td>\n",
    "    </tr>\n",
    "    <tr>\n",
    "      <th>35767</th>\n",
    "      <td>21</td>\n",
    "      <td>8/30/17 12:16</td>\n",
    "      <td>218.0</td>\n",
    "    </tr>\n",
    "    <tr>\n",
    "      <th>35768</th>\n",
    "      <td>21</td>\n",
    "      <td>8/30/17 12:21</td>\n",
    "      <td>201.0</td>\n",
    "    </tr>\n",
    "    <tr>\n",
    "      <th>35769</th>\n",
    "      <td>21</td>\n",
    "      <td>8/30/17 12:31</td>\n",
    "      <td>142.0</td>\n",
    "    </tr>\n",
    "    <tr>\n",
    "      <th>35770</th>\n",
    "      <td>21</td>\n",
    "      <td>8/30/17 13:51</td>\n",
    "      <td>NaN</td>\n",
    "    </tr>\n",
    "  </tbody>\n",
    "</table>"
   ]
  },
  {
   "cell_type": "code",
   "execution_count": 4,
   "metadata": {
    "nbgrader": {
     "grade": false,
     "grade_id": "cell-f4ace40e0b755c06",
     "locked": false,
     "schema_version": 1,
     "solution": true
    }
   },
   "outputs": [
    {
     "data": {
      "text/html": [
       "<div>\n",
       "<style scoped>\n",
       "    .dataframe tbody tr th:only-of-type {\n",
       "        vertical-align: middle;\n",
       "    }\n",
       "\n",
       "    .dataframe tbody tr th {\n",
       "        vertical-align: top;\n",
       "    }\n",
       "\n",
       "    .dataframe thead th {\n",
       "        text-align: right;\n",
       "    }\n",
       "</style>\n",
       "<table border=\"1\" class=\"dataframe\">\n",
       "  <thead>\n",
       "    <tr style=\"text-align: right;\">\n",
       "      <th></th>\n",
       "      <th>ID</th>\n",
       "      <th>DisplayTime</th>\n",
       "      <th>Value</th>\n",
       "    </tr>\n",
       "  </thead>\n",
       "  <tbody>\n",
       "    <tr>\n",
       "      <th>0</th>\n",
       "      <td>1</td>\n",
       "      <td>12/7/16 21:00</td>\n",
       "      <td>229.0</td>\n",
       "    </tr>\n",
       "    <tr>\n",
       "      <th>1</th>\n",
       "      <td>1</td>\n",
       "      <td>12/7/16 21:05</td>\n",
       "      <td>246.0</td>\n",
       "    </tr>\n",
       "    <tr>\n",
       "      <th>2</th>\n",
       "      <td>1</td>\n",
       "      <td>12/7/16 21:10</td>\n",
       "      <td>240.0</td>\n",
       "    </tr>\n",
       "    <tr>\n",
       "      <th>3</th>\n",
       "      <td>1</td>\n",
       "      <td>12/7/16 21:15</td>\n",
       "      <td>253.0</td>\n",
       "    </tr>\n",
       "    <tr>\n",
       "      <th>4</th>\n",
       "      <td>1</td>\n",
       "      <td>12/7/16 21:20</td>\n",
       "      <td>247.0</td>\n",
       "    </tr>\n",
       "  </tbody>\n",
       "</table>\n",
       "</div>"
      ],
      "text/plain": [
       "   ID    DisplayTime  Value\n",
       "0   1  12/7/16 21:00  229.0\n",
       "1   1  12/7/16 21:05  246.0\n",
       "2   1  12/7/16 21:10  240.0\n",
       "3   1  12/7/16 21:15  253.0\n",
       "4   1  12/7/16 21:20  247.0"
      ]
     },
     "execution_count": 4,
     "metadata": {},
     "output_type": "execute_result"
    }
   ],
   "source": [
    "### BEGIN SOLUTION\n",
    "cgm = pd.read_csv(\"CGM_vals.csv\", na_values = {\"Value\":[\"Low\", \"High\"]})\n",
    "cgm.head()\n",
    "### END SOLUTION"
   ]
  },
  {
   "cell_type": "code",
   "execution_count": 5,
   "metadata": {
    "nbgrader": {
     "grade": true,
     "grade_id": "cell-aa95a00459b22d1e",
     "locked": true,
     "points": 2,
     "schema_version": 1,
     "solution": false
    }
   },
   "outputs": [],
   "source": [
    "assert_true(isinstance(cgm,pd.DataFrame))"
   ]
  },
  {
   "cell_type": "code",
   "execution_count": 6,
   "metadata": {
    "nbgrader": {
     "grade": true,
     "grade_id": "cell-032a7993f8f40477",
     "locked": true,
     "points": 2,
     "schema_version": 1,
     "solution": false
    }
   },
   "outputs": [],
   "source": [
    "assert_true(np.isnan(cgm['Value'].iloc[11104]))"
   ]
  },
  {
   "cell_type": "code",
   "execution_count": 7,
   "metadata": {
    "nbgrader": {
     "grade": true,
     "grade_id": "cell-403920f3823c481a",
     "locked": true,
     "points": 3,
     "schema_version": 1,
     "solution": false
    }
   },
   "outputs": [],
   "source": [
    "assert_true(np.isnan(cgm['Value'].iloc[35770]))\n"
   ]
  },
  {
   "cell_type": "code",
   "execution_count": 8,
   "metadata": {
    "nbgrader": {
     "grade": true,
     "grade_id": "cell-2b3032700b8b484e",
     "locked": true,
     "points": 1,
     "schema_version": 1,
     "solution": false
    }
   },
   "outputs": [],
   "source": [
    "assert_true(cgm.Value.dtype==np.float64)"
   ]
  },
  {
   "cell_type": "code",
   "execution_count": 38,
   "metadata": {
    "nbgrader": {
     "grade": true,
     "grade_id": "cell-fc84d3a45dcbe676",
     "locked": true,
     "points": 2,
     "schema_version": 1,
     "solution": false
    }
   },
   "outputs": [],
   "source": [
    "### BEGIN HIDDEN TESTS\n",
    "assert_true(np.isnan(cgm['Value'].iloc[32862]))\n",
    "### END HIDDEN TESTS"
   ]
  },
  {
   "cell_type": "markdown",
   "metadata": {
    "nbgrader": {
     "grade": false,
     "grade_id": "cell-e42c89cdff6de493",
     "locked": true,
     "schema_version": 1,
     "solution": false
    }
   },
   "source": [
    "## Problem 2 (10 points)\n",
    "\n",
    "Write a function `ds2dt` that takes a string `s` containing a date and a format string `parse_str` and returns a `datetime` instance."
   ]
  },
  {
   "cell_type": "code",
   "execution_count": 10,
   "metadata": {
    "nbgrader": {
     "grade": false,
     "grade_id": "cell-affc71d37baeab76",
     "locked": false,
     "schema_version": 1,
     "solution": true
    },
    "scrolled": true
   },
   "outputs": [],
   "source": [
    "### BEGIN SOLUTION\n",
    "\n",
    "pstr = \"\"\"%m/%d/%y %H:%M\"\"\"\n",
    "def ds2dt(s, parse_str):\n",
    "    return datetime.datetime.strptime(s, parse_str)\n",
    "### END SOLUTION\n"
   ]
  },
  {
   "cell_type": "code",
   "execution_count": 11,
   "metadata": {
    "nbgrader": {
     "grade": true,
     "grade_id": "cell-68cf163689556004",
     "locked": true,
     "points": 5,
     "schema_version": 1,
     "solution": false
    }
   },
   "outputs": [],
   "source": [
    "assert_true(isinstance(ds2dt(\"2016-12-07\",\"%Y-%m-%d\"), datetime.datetime))"
   ]
  },
  {
   "cell_type": "code",
   "execution_count": 12,
   "metadata": {
    "nbgrader": {
     "grade": true,
     "grade_id": "cell-28f0a8595e6f2a12",
     "locked": true,
     "points": 5,
     "schema_version": 1,
     "solution": false
    }
   },
   "outputs": [],
   "source": [
    "### BEGIN HIDDEN TESTS\n",
    "assert_equal(ds2dt(\"Jan 8, 05\",\"%b %d, %y\").year,2005)\n",
    "### END HIDDEN TESTS"
   ]
  },
  {
   "cell_type": "markdown",
   "metadata": {
    "nbgrader": {
     "grade": false,
     "grade_id": "cell-68e32b7394870442",
     "locked": true,
     "schema_version": 1,
     "solution": false
    }
   },
   "source": [
    "## Problem 3 (10 points)\n",
    "\n",
    "Use the function `ds2dt` and the DataFrame `apply` method to convert the `DisplayTime` column from string values to `datetime.datetime` instances."
   ]
  },
  {
   "cell_type": "code",
   "execution_count": 13,
   "metadata": {
    "nbgrader": {
     "grade": false,
     "grade_id": "cell-5d97226d8e136a4d",
     "locked": false,
     "schema_version": 1,
     "solution": true
    }
   },
   "outputs": [],
   "source": [
    "### BEGIN SOLUTION\n",
    "cgm.DisplayTime = cgm.apply(lambda x: ds2dt(x['DisplayTime'],pstr), axis=1)\n",
    "### END SOLUTION"
   ]
  },
  {
   "cell_type": "code",
   "execution_count": 14,
   "metadata": {
    "nbgrader": {
     "grade": true,
     "grade_id": "cell-8a4b5467ad2f1540",
     "locked": true,
     "points": 5,
     "schema_version": 1,
     "solution": false
    }
   },
   "outputs": [],
   "source": [
    "assert_false(isinstance(cgm.DisplayTime[0],str))"
   ]
  },
  {
   "cell_type": "code",
   "execution_count": 15,
   "metadata": {
    "nbgrader": {
     "grade": true,
     "grade_id": "cell-fba03b62cad7198f",
     "locked": true,
     "points": 5,
     "schema_version": 1,
     "solution": false
    }
   },
   "outputs": [],
   "source": [
    "assert_true(isinstance(cgm.DisplayTime[100],pd.Timestamp))"
   ]
  },
  {
   "cell_type": "markdown",
   "metadata": {
    "nbgrader": {
     "grade": false,
     "grade_id": "cell-ab7db877dc2f72d2",
     "locked": true,
     "schema_version": 1,
     "solution": false
    }
   },
   "source": [
    "### Explore the DataFrame"
   ]
  },
  {
   "cell_type": "code",
   "execution_count": 16,
   "metadata": {},
   "outputs": [
    {
     "data": {
      "application/vnd.jupyter.widget-view+json": {
       "model_id": "ec0850006d4543a8a874f14d3df44c73",
       "version_major": 2,
       "version_minor": 0
      },
      "text/plain": [
       "interactive(children=(Dropdown(description='_id', options=(1, 2, 3, 4, 5, 6, 7, 8, 10, 11, 12, 13, 14, 15, 16,…"
      ]
     },
     "metadata": {},
     "output_type": "display_data"
    }
   ],
   "source": [
    "ids = list(cgm.ID.unique())\n",
    "ids.sort()\n",
    "@interact(df=fixed(cgm) , _id=ids)\n",
    "def disp(df, _id):\n",
    "    df[df.ID==_id].plot(x='DisplayTime', y='Value')"
   ]
  },
  {
   "cell_type": "markdown",
   "metadata": {
    "nbgrader": {
     "grade": false,
     "grade_id": "cell-7ba9e51232579192",
     "locked": true,
     "schema_version": 1,
     "solution": false
    }
   },
   "source": [
    "## Problem 4 (5 points)\n",
    "\n",
    "Change the value assigned to `num_unique_ids` from `None` to the number of unique IDs found in the data set (`num_unique_ids` should be of type `int`)."
   ]
  },
  {
   "cell_type": "code",
   "execution_count": 17,
   "metadata": {
    "nbgrader": {
     "grade": false,
     "grade_id": "cell-bae859229973473c",
     "locked": false,
     "schema_version": 1,
     "solution": true
    }
   },
   "outputs": [],
   "source": [
    "num_unique_ids = None\n",
    "### BEGIN SOLUTION\n",
    "num_unique_ids = len(cgm.ID.unique())\n",
    "### END SOLUTION"
   ]
  },
  {
   "cell_type": "code",
   "execution_count": 18,
   "metadata": {
    "nbgrader": {
     "grade": true,
     "grade_id": "cell-53bbc24e470fb64c",
     "locked": true,
     "points": 5,
     "schema_version": 1,
     "solution": false
    }
   },
   "outputs": [],
   "source": [
    "### BEGIN HIDDEN TESTS\n",
    "assert_equal(num_unique_ids,20)\n",
    "### END HIDDEN TESTS"
   ]
  },
  {
   "cell_type": "markdown",
   "metadata": {
    "nbgrader": {
     "grade": false,
     "grade_id": "cell-e68e8ee7e5af22fb",
     "locked": true,
     "schema_version": 1,
     "solution": false
    }
   },
   "source": [
    "## Problem 5 (20 points)\n",
    "\n",
    "In this problem we will write a function that computes the differences between values in a column for each subject in the DataFrame.\n",
    "\n",
    "Consider the DataFrame segment shown below:\n",
    "\n",
    "<table border=\"1\" class=\"dataframe\">\n",
    "  <thead>\n",
    "    <tr style=\"text-align: right;\">\n",
    "      <th></th>\n",
    "      <th>ID</th>\n",
    "      <th>DisplayTime</th>\n",
    "      <th>Value</th>\n",
    "    </tr>\n",
    "  </thead>\n",
    "  <tbody>\n",
    "    <tr>\n",
    "      <th>1803</th>\n",
    "      <td>1</td>\n",
    "      <td>12/14/16 14:15</td>\n",
    "      <td>77.0</td>\n",
    "    </tr>\n",
    "    <tr>\n",
    "      <th>1804</th>\n",
    "      <td>1</td>\n",
    "      <td>12/14/16 14:20</td>\n",
    "      <td>71.0</td>\n",
    "    </tr>\n",
    "    <tr>\n",
    "      <th>1805</th>\n",
    "      <td>1</td>\n",
    "      <td>12/14/16 14:25</td>\n",
    "      <td>64.0</td>\n",
    "    </tr>\n",
    "    <tr>\n",
    "      <th>1806</th>\n",
    "      <td>2</td>\n",
    "      <td>1/18/17 23:44</td>\n",
    "      <td>108.0</td>\n",
    "    </tr>\n",
    "    <tr>\n",
    "      <th>1807</th>\n",
    "      <td>2</td>\n",
    "      <td>1/18/17 23:49</td>\n",
    "      <td>103.0</td>\n",
    "    </tr>\n",
    "  </tbody>\n",
    "</table>\n",
    "\n",
    "We can compute the difference of `Value`, for example, between rows 1805 and 1804, since these are both values for subject 1. However, a difference between rows 1806 and 1805 does not make any sense because the values are for two different subjects (1 and 2). When we cannot compute a meaningful value, we would want to provide a missing value (`np.nan` for our measured values and `pd.NaT` for our times). Similarly, we cannot compute a value at row 0, since there is no prior value to subtract.\n",
    "\n",
    "Write a function `diff_column` that computes the backward difference between values in a column, if the values are for the same subject. \n",
    "\n",
    "\\begin{equation}\n",
    "diff[i] = \n",
    "\\begin{cases}\n",
    "    value[i]-value[i-1],& \\text{if } ID[i] = ID[i-1]\\\\\n",
    "    np.nan,              & \\text{otherwise}\n",
    "\\end{cases}\n",
    "\\end{equation}\n",
    "\n",
    "We will achieve this functionality by providing a column name that we will use to determine that the subjects are the same, and another keyword argument `diff_column` to determine which column to compute the difference on.\n",
    "\n"
   ]
  },
  {
   "cell_type": "code",
   "execution_count": 39,
   "metadata": {
    "nbgrader": {
     "grade": false,
     "grade_id": "cell-8ab9067e503bd6a8",
     "locked": false,
     "schema_version": 1,
     "solution": true
    }
   },
   "outputs": [],
   "source": [
    "def diff_column(df, control_column= \"ID\", diff_column=\"DisplayTime\", null_value=pd.NaT):\n",
    "    \"\"\"\n",
    "    Computes the backward difference of a column constrained by equality of values in a control column\n",
    "    \n",
    "    Input:\n",
    "        df: A Pandas DataFrame\n",
    "        control_column=\"ID\" -- the name of the column to constrain equality\n",
    "        diff_column=\"DisplayTime\" -- the name of the column from which to compute the backwards difference\n",
    "        null_value=pd.NaT -- the value to use when a difference cannot be computed\n",
    "        \n",
    "    Returns:\n",
    "    \n",
    "        A Pandas Series containing the differences\n",
    "    \"\"\"\n",
    "### BEGIN SOLUTION\n",
    "    deltas = [null_value]\n",
    "    for i in range(1,cgm.shape[0]):\n",
    "        if df.loc[i,control_column] != df.loc[i-1,control_column]:\n",
    "            deltas.append(null_value)\n",
    "        else:\n",
    "            deltas.append(df.loc[i,diff_column]-df.loc[i-1,diff_column])\n",
    "    return pd.Series(deltas)\n",
    "### END SOLUTION"
   ]
  },
  {
   "cell_type": "code",
   "execution_count": 40,
   "metadata": {
    "nbgrader": {
     "grade": true,
     "grade_id": "cell-fbadfe8ce375f9dd",
     "locked": true,
     "points": 2,
     "schema_version": 1,
     "solution": false
    }
   },
   "outputs": [],
   "source": [
    "assert_equal(diff_column(cgm).shape, (35771,))"
   ]
  },
  {
   "cell_type": "code",
   "execution_count": 21,
   "metadata": {
    "nbgrader": {
     "grade": true,
     "grade_id": "cell-4bb8702a1341fd43",
     "locked": true,
     "points": 2,
     "schema_version": 1,
     "solution": false
    }
   },
   "outputs": [],
   "source": [
    "assert_true(pd.isnull(diff_column(cgm)[0]))"
   ]
  },
  {
   "cell_type": "code",
   "execution_count": 22,
   "metadata": {
    "nbgrader": {
     "grade": true,
     "grade_id": "cell-4b60f97a0854f7c5",
     "locked": true,
     "points": 2,
     "schema_version": 1,
     "solution": false
    }
   },
   "outputs": [],
   "source": [
    "assert_true(pd.isnull(diff_column(cgm)[1806]))"
   ]
  },
  {
   "cell_type": "code",
   "execution_count": 23,
   "metadata": {
    "nbgrader": {
     "grade": true,
     "grade_id": "cell-285251bfdee724a8",
     "locked": true,
     "points": 2,
     "schema_version": 1,
     "solution": false
    }
   },
   "outputs": [],
   "source": [
    "assert_almost_equal(diff_column(cgm, control_column=\"ID\", diff_column=\"Value\", null_value=np.nan)[4],-6.0)"
   ]
  },
  {
   "cell_type": "code",
   "execution_count": 24,
   "metadata": {
    "nbgrader": {
     "grade": true,
     "grade_id": "cell-3f3d5ca19ef395b3",
     "locked": true,
     "points": 5,
     "schema_version": 1,
     "solution": false
    }
   },
   "outputs": [],
   "source": [
    "assert_true(np.isnan(diff_column(cgm, control_column=\"ID\", diff_column=\"Value\", null_value=np.nan)[19843]))"
   ]
  },
  {
   "cell_type": "code",
   "execution_count": 25,
   "metadata": {
    "nbgrader": {
     "grade": true,
     "grade_id": "cell-e3c75e8b3127ddf5",
     "locked": true,
     "points": 5,
     "schema_version": 1,
     "solution": false
    }
   },
   "outputs": [],
   "source": [
    "assert_true(np.isnan(diff_column(cgm, control_column=\"ID\", diff_column=\"Value\", null_value=np.nan)[30046]))"
   ]
  },
  {
   "cell_type": "code",
   "execution_count": 26,
   "metadata": {
    "nbgrader": {
     "grade": true,
     "grade_id": "cell-5b9228c17f3cef99",
     "locked": true,
     "points": 2,
     "schema_version": 1,
     "solution": false
    }
   },
   "outputs": [
    {
     "data": {
      "text/html": [
       "<div>\n",
       "<style scoped>\n",
       "    .dataframe tbody tr th:only-of-type {\n",
       "        vertical-align: middle;\n",
       "    }\n",
       "\n",
       "    .dataframe tbody tr th {\n",
       "        vertical-align: top;\n",
       "    }\n",
       "\n",
       "    .dataframe thead th {\n",
       "        text-align: right;\n",
       "    }\n",
       "</style>\n",
       "<table border=\"1\" class=\"dataframe\">\n",
       "  <thead>\n",
       "    <tr style=\"text-align: right;\">\n",
       "      <th></th>\n",
       "      <th>ID</th>\n",
       "      <th>DisplayTime</th>\n",
       "      <th>Value</th>\n",
       "      <th>DiffTime</th>\n",
       "      <th>DiffValue</th>\n",
       "    </tr>\n",
       "  </thead>\n",
       "  <tbody>\n",
       "    <tr>\n",
       "      <th>0</th>\n",
       "      <td>1</td>\n",
       "      <td>2016-12-07 21:00:00</td>\n",
       "      <td>229.0</td>\n",
       "      <td>NaT</td>\n",
       "      <td>NaN</td>\n",
       "    </tr>\n",
       "    <tr>\n",
       "      <th>1</th>\n",
       "      <td>1</td>\n",
       "      <td>2016-12-07 21:05:00</td>\n",
       "      <td>246.0</td>\n",
       "      <td>00:05:00</td>\n",
       "      <td>17.0</td>\n",
       "    </tr>\n",
       "    <tr>\n",
       "      <th>2</th>\n",
       "      <td>1</td>\n",
       "      <td>2016-12-07 21:10:00</td>\n",
       "      <td>240.0</td>\n",
       "      <td>00:05:00</td>\n",
       "      <td>-6.0</td>\n",
       "    </tr>\n",
       "    <tr>\n",
       "      <th>3</th>\n",
       "      <td>1</td>\n",
       "      <td>2016-12-07 21:15:00</td>\n",
       "      <td>253.0</td>\n",
       "      <td>00:05:00</td>\n",
       "      <td>13.0</td>\n",
       "    </tr>\n",
       "    <tr>\n",
       "      <th>4</th>\n",
       "      <td>1</td>\n",
       "      <td>2016-12-07 21:20:00</td>\n",
       "      <td>247.0</td>\n",
       "      <td>00:05:00</td>\n",
       "      <td>-6.0</td>\n",
       "    </tr>\n",
       "  </tbody>\n",
       "</table>\n",
       "</div>"
      ],
      "text/plain": [
       "   ID         DisplayTime  Value DiffTime  DiffValue\n",
       "0   1 2016-12-07 21:00:00  229.0      NaT        NaN\n",
       "1   1 2016-12-07 21:05:00  246.0 00:05:00       17.0\n",
       "2   1 2016-12-07 21:10:00  240.0 00:05:00       -6.0\n",
       "3   1 2016-12-07 21:15:00  253.0 00:05:00       13.0\n",
       "4   1 2016-12-07 21:20:00  247.0 00:05:00       -6.0"
      ]
     },
     "execution_count": 26,
     "metadata": {},
     "output_type": "execute_result"
    }
   ],
   "source": [
    "cgm[\"DiffTime\"] = diff_column(cgm)\n",
    "cgm[\"DiffValue\"] = diff_column(cgm, control_column=\"ID\", \n",
    "                               diff_column=\"Value\", \n",
    "                               null_value=np.nan)\n",
    "cgm.head()"
   ]
  },
  {
   "cell_type": "markdown",
   "metadata": {
    "nbgrader": {
     "grade": false,
     "grade_id": "cell-68f2deb757d1daf7",
     "locked": true,
     "schema_version": 1,
     "solution": false
    }
   },
   "source": [
    "#### The tail of your modified DataFrame should look like this:\n",
    "\n",
    "<table border=\"1\" class=\"dataframe\">\n",
    "  <thead>\n",
    "    <tr style=\"text-align: right;\">\n",
    "      <th></th>\n",
    "      <th>ID</th>\n",
    "      <th>DisplayTime</th>\n",
    "      <th>Value</th>\n",
    "      <th>DiffTime</th>\n",
    "      <th>DiffValue</th>\n",
    "    </tr>\n",
    "  </thead>\n",
    "  <tbody>\n",
    "    <tr>\n",
    "      <th>35766</th>\n",
    "      <td>21</td>\n",
    "      <td>2017-08-30 12:11:00</td>\n",
    "      <td>225.0</td>\n",
    "      <td>00:05:00</td>\n",
    "      <td>-3.0</td>\n",
    "    </tr>\n",
    "    <tr>\n",
    "      <th>35767</th>\n",
    "      <td>21</td>\n",
    "      <td>2017-08-30 12:16:00</td>\n",
    "      <td>218.0</td>\n",
    "      <td>00:05:00</td>\n",
    "      <td>-7.0</td>\n",
    "    </tr>\n",
    "    <tr>\n",
    "      <th>35768</th>\n",
    "      <td>21</td>\n",
    "      <td>2017-08-30 12:21:00</td>\n",
    "      <td>201.0</td>\n",
    "      <td>00:05:00</td>\n",
    "      <td>-17.0</td>\n",
    "    </tr>\n",
    "    <tr>\n",
    "      <th>35769</th>\n",
    "      <td>21</td>\n",
    "      <td>2017-08-30 12:31:00</td>\n",
    "      <td>142.0</td>\n",
    "      <td>00:10:00</td>\n",
    "      <td>-59.0</td>\n",
    "    </tr>\n",
    "    <tr>\n",
    "      <th>35770</th>\n",
    "      <td>21</td>\n",
    "      <td>2017-08-30 13:51:00</td>\n",
    "      <td>NaN</td>\n",
    "      <td>01:20:00</td>\n",
    "      <td>NaN</td>\n",
    "    </tr>\n",
    "  </tbody>\n",
    "</table>"
   ]
  },
  {
   "cell_type": "markdown",
   "metadata": {
    "nbgrader": {
     "grade": false,
     "grade_id": "cell-36c91fc7e59435dd",
     "locked": true,
     "schema_version": 1,
     "solution": false
    }
   },
   "source": [
    "## Problem 6 (35 Points)\n",
    "\n",
    "In this problem you will write a function to compute the fractions of time that each subject has a problematic blood glucose measurement ($< 70 \\text{ or }> 180$ per Dr. Gibson above). This will be computed by summing up the time deltas where the time delta is less than some threshold (in seconds). The cell below computes the most common time deltas. Five minutes is by far the most common time delta. Based on this I've arbitrarily set a time delta threshold of 1000 seconds."
   ]
  },
  {
   "cell_type": "code",
   "execution_count": 27,
   "metadata": {
    "nbgrader": {
     "grade": false,
     "grade_id": "cell-d2baa8fefba1f0b4",
     "locked": true,
     "schema_version": 1,
     "solution": false
    }
   },
   "outputs": [
    {
     "data": {
      "text/html": [
       "<div>\n",
       "<style scoped>\n",
       "    .dataframe tbody tr th:only-of-type {\n",
       "        vertical-align: middle;\n",
       "    }\n",
       "\n",
       "    .dataframe tbody tr th {\n",
       "        vertical-align: top;\n",
       "    }\n",
       "\n",
       "    .dataframe thead th {\n",
       "        text-align: right;\n",
       "    }\n",
       "</style>\n",
       "<table border=\"1\" class=\"dataframe\">\n",
       "  <thead>\n",
       "    <tr style=\"text-align: right;\">\n",
       "      <th></th>\n",
       "      <th>Time Delta</th>\n",
       "      <th>Count</th>\n",
       "    </tr>\n",
       "  </thead>\n",
       "  <tbody>\n",
       "    <tr>\n",
       "      <th>0</th>\n",
       "      <td>00:05:00</td>\n",
       "      <td>35339</td>\n",
       "    </tr>\n",
       "    <tr>\n",
       "      <th>1</th>\n",
       "      <td>00:10:00</td>\n",
       "      <td>234</td>\n",
       "    </tr>\n",
       "    <tr>\n",
       "      <th>2</th>\n",
       "      <td>00:15:00</td>\n",
       "      <td>49</td>\n",
       "    </tr>\n",
       "    <tr>\n",
       "      <th>3</th>\n",
       "      <td>00:04:00</td>\n",
       "      <td>25</td>\n",
       "    </tr>\n",
       "    <tr>\n",
       "      <th>4</th>\n",
       "      <td>NaT</td>\n",
       "      <td>20</td>\n",
       "    </tr>\n",
       "    <tr>\n",
       "      <th>5</th>\n",
       "      <td>00:20:00</td>\n",
       "      <td>20</td>\n",
       "    </tr>\n",
       "    <tr>\n",
       "      <th>6</th>\n",
       "      <td>00:25:00</td>\n",
       "      <td>18</td>\n",
       "    </tr>\n",
       "    <tr>\n",
       "      <th>7</th>\n",
       "      <td>00:06:00</td>\n",
       "      <td>16</td>\n",
       "    </tr>\n",
       "    <tr>\n",
       "      <th>8</th>\n",
       "      <td>00:40:00</td>\n",
       "      <td>6</td>\n",
       "    </tr>\n",
       "    <tr>\n",
       "      <th>9</th>\n",
       "      <td>00:35:00</td>\n",
       "      <td>5</td>\n",
       "    </tr>\n",
       "  </tbody>\n",
       "</table>\n",
       "</div>"
      ],
      "text/plain": [
       "  Time Delta  Count\n",
       "0   00:05:00  35339\n",
       "1   00:10:00    234\n",
       "2   00:15:00     49\n",
       "3   00:04:00     25\n",
       "4        NaT     20\n",
       "5   00:20:00     20\n",
       "6   00:25:00     18\n",
       "7   00:06:00     16\n",
       "8   00:40:00      6\n",
       "9   00:35:00      5"
      ]
     },
     "execution_count": 27,
     "metadata": {},
     "output_type": "execute_result"
    }
   ],
   "source": [
    "pd.DataFrame(Counter(cgm.DiffTime).most_common(10), columns=[\"Time Delta\", \"Count\"])"
   ]
  },
  {
   "cell_type": "markdown",
   "metadata": {
    "nbgrader": {
     "grade": false,
     "grade_id": "cell-4a09b3dda9f8cc76",
     "locked": true,
     "schema_version": 1,
     "solution": false
    }
   },
   "source": [
    "\n",
    "Based on the docstring provided for the function and the nature of the provided tests, complete the function `cgm\n",
    "\n",
    "**Hint:** Extracting time values from a column/series with `Timedelta` values is a bit tricky. You will need to use a syntax like this\n",
    "\n",
    "```Python\n",
    "my_data_frame[\"My Delta Time Columne\"].dt.seconds\n",
    "```\n"
   ]
  },
  {
   "cell_type": "code",
   "execution_count": 28,
   "metadata": {
    "nbgrader": {
     "grade": false,
     "grade_id": "cell-37b967f39f2773cd",
     "locked": false,
     "schema_version": 1,
     "solution": true
    }
   },
   "outputs": [],
   "source": [
    "def cgm_problem_time_ratio(df, tlow=70, thigh=180, deltat_thresh=1000,\n",
    "                           delta_time=\"DiffTime\", values=\"Value\",\n",
    "                           control_column=\"ID\"):\n",
    "    \"\"\"\n",
    "    Computes the ratio of time a given subject has a problematic blood sugar measurement.\n",
    "    \n",
    "    Input:\n",
    "        -- df: The Pandas DataFrame containing the cgm data.\n",
    "        -- tlow: Numeric: threshold for low glucose\n",
    "        -- thigh: Numeric: threshold for high glucose\n",
    "        -- deltat_thresh: Numeric: threshold (in seconds) for adding monitor time.\n",
    "        -- delta_time -- string: column name for time differences\n",
    "        -- values -- string: column name with cgm values\n",
    "        -- control_column -- string: column name for subject IDs\n",
    "        \n",
    "    Returns:\n",
    "        A dictionary with keys subject IDs and values the ratio (decimal number) of the \n",
    "        elapsed time (in seconds) with problematic measurements divided by total elapsed time\n",
    "        (in seconds). Elapsed times are computed by summations of Timedeltas\n",
    "    \"\"\"\n",
    "    ### BEGIN SOLUTION\n",
    "    assert type(df) == pd.DataFrame\n",
    "    rslt = {}\n",
    "    ids = df[control_column].unique()\n",
    "    for _id in ids:\n",
    "        \n",
    "        \n",
    "        tmp = df[df[control_column]==_id]\n",
    "        bad_time = sum(tmp[(tmp[delta_time].dt.seconds < deltat_thresh) & \n",
    "                   ((tmp[values] > thigh) | (tmp[values] < tlow))][delta_time].dt.seconds)\n",
    "        total_time = \\\n",
    "            sum(tmp[(tmp[delta_time].dt.seconds < deltat_thresh)][delta_time].dt.seconds)\n",
    "        rslt[_id] = bad_time/total_time\n",
    "    return rslt\n",
    "    ### END SOLUTION\n",
    "        "
   ]
  },
  {
   "cell_type": "code",
   "execution_count": 29,
   "metadata": {
    "nbgrader": {
     "grade": true,
     "grade_id": "cell-dff58953d2671685",
     "locked": true,
     "points": 5,
     "schema_version": 1,
     "solution": false
    }
   },
   "outputs": [],
   "source": [
    "rslt = cgm_problem_time_ratio(cgm)\n",
    "assert_true(isinstance(rslt, dict))"
   ]
  },
  {
   "cell_type": "code",
   "execution_count": 30,
   "metadata": {
    "nbgrader": {
     "grade": true,
     "grade_id": "cell-2235b512582ac334",
     "locked": true,
     "points": 5,
     "schema_version": 1,
     "solution": false
    }
   },
   "outputs": [],
   "source": [
    "assert_true(15 in rslt)"
   ]
  },
  {
   "cell_type": "code",
   "execution_count": 31,
   "metadata": {
    "nbgrader": {
     "grade": true,
     "grade_id": "cell-5bfc7b9b5a8a7fdd",
     "locked": true,
     "points": 5,
     "schema_version": 1,
     "solution": false
    }
   },
   "outputs": [],
   "source": [
    "assert_almost_equal(rslt[16], 0.013635410111181035)"
   ]
  },
  {
   "cell_type": "code",
   "execution_count": 32,
   "metadata": {
    "nbgrader": {
     "grade": false,
     "grade_id": "cell-0656eff0827dec70",
     "locked": true,
     "schema_version": 1,
     "solution": false
    }
   },
   "outputs": [
    {
     "data": {
      "text/html": [
       "<div>\n",
       "<style scoped>\n",
       "    .dataframe tbody tr th:only-of-type {\n",
       "        vertical-align: middle;\n",
       "    }\n",
       "\n",
       "    .dataframe tbody tr th {\n",
       "        vertical-align: top;\n",
       "    }\n",
       "\n",
       "    .dataframe thead th {\n",
       "        text-align: right;\n",
       "    }\n",
       "</style>\n",
       "<table border=\"1\" class=\"dataframe\">\n",
       "  <thead>\n",
       "    <tr style=\"text-align: right;\">\n",
       "      <th></th>\n",
       "      <th>Subject</th>\n",
       "      <th>MeasurementTime</th>\n",
       "      <th>Blood Glucose (mg/dl)</th>\n",
       "      <th>TimeDelta</th>\n",
       "      <th>ValueDelta</th>\n",
       "    </tr>\n",
       "  </thead>\n",
       "  <tbody>\n",
       "    <tr>\n",
       "      <th>0</th>\n",
       "      <td>UU A</td>\n",
       "      <td>2016-12-07 21:00:00</td>\n",
       "      <td>229.0</td>\n",
       "      <td>NaT</td>\n",
       "      <td>NaN</td>\n",
       "    </tr>\n",
       "    <tr>\n",
       "      <th>1</th>\n",
       "      <td>UU A</td>\n",
       "      <td>2016-12-07 21:05:00</td>\n",
       "      <td>246.0</td>\n",
       "      <td>00:05:00</td>\n",
       "      <td>17.0</td>\n",
       "    </tr>\n",
       "    <tr>\n",
       "      <th>2</th>\n",
       "      <td>UU A</td>\n",
       "      <td>2016-12-07 21:10:00</td>\n",
       "      <td>240.0</td>\n",
       "      <td>00:05:00</td>\n",
       "      <td>-6.0</td>\n",
       "    </tr>\n",
       "    <tr>\n",
       "      <th>3</th>\n",
       "      <td>UU A</td>\n",
       "      <td>2016-12-07 21:15:00</td>\n",
       "      <td>253.0</td>\n",
       "      <td>00:05:00</td>\n",
       "      <td>13.0</td>\n",
       "    </tr>\n",
       "    <tr>\n",
       "      <th>4</th>\n",
       "      <td>UU A</td>\n",
       "      <td>2016-12-07 21:20:00</td>\n",
       "      <td>247.0</td>\n",
       "      <td>00:05:00</td>\n",
       "      <td>-6.0</td>\n",
       "    </tr>\n",
       "  </tbody>\n",
       "</table>\n",
       "</div>"
      ],
      "text/plain": [
       "  Subject     MeasurementTime  Blood Glucose (mg/dl) TimeDelta  ValueDelta\n",
       "0    UU A 2016-12-07 21:00:00                  229.0       NaT         NaN\n",
       "1    UU A 2016-12-07 21:05:00                  246.0  00:05:00        17.0\n",
       "2    UU A 2016-12-07 21:10:00                  240.0  00:05:00        -6.0\n",
       "3    UU A 2016-12-07 21:15:00                  253.0  00:05:00        13.0\n",
       "4    UU A 2016-12-07 21:20:00                  247.0  00:05:00        -6.0"
      ]
     },
     "execution_count": 32,
     "metadata": {},
     "output_type": "execute_result"
    }
   ],
   "source": [
    "remap = dict(zip(range(1,22),map(lambda x:\"UU \" + x.upper(),\"abcdefghijklmnopqrstuvwxyz\")))\n",
    "\n",
    "cgm2 = cgm.rename({\"ID\":\"Subject\", \"DisplayTime\":\"MeasurementTime\",\n",
    "                   \"Value\":\"Blood Glucose (mg/dl)\", \"DiffTime\":\"TimeDelta\",\n",
    "                   \"DiffValue\":\"ValueDelta\"}, axis=1)\n",
    "cgm2.Subject = cgm2.Subject.apply(lambda x: remap[x])\n",
    "cgm2.head()"
   ]
  },
  {
   "cell_type": "code",
   "execution_count": 33,
   "metadata": {
    "nbgrader": {
     "grade": true,
     "grade_id": "cell-3d99e60b9d4f92aa",
     "locked": true,
     "points": 10,
     "schema_version": 1,
     "solution": false
    }
   },
   "outputs": [],
   "source": [
    "rslt2 = cgm_problem_time_ratio(cgm2, delta_time=\"TimeDelta\", values=\"Blood Glucose (mg/dl)\",\n",
    "                           control_column=\"Subject\")"
   ]
  },
  {
   "cell_type": "code",
   "execution_count": 34,
   "metadata": {
    "nbgrader": {
     "grade": true,
     "grade_id": "cell-962b9b207954edf6",
     "locked": true,
     "points": 10,
     "schema_version": 1,
     "solution": false
    }
   },
   "outputs": [],
   "source": [
    "assert_almost_equal(rslt2[\"UU K\"], 0.026472177201512695)"
   ]
  },
  {
   "cell_type": "markdown",
   "metadata": {
    "nbgrader": {
     "grade": false,
     "grade_id": "cell-88f6aaa9479bf29c",
     "locked": true,
     "schema_version": 1,
     "solution": false
    }
   },
   "source": [
    "## Problem 7 (10 points)\n",
    "\n",
    "#### We can estimate the rate of change for the glucose measurements by dividing columns"
   ]
  },
  {
   "cell_type": "code",
   "execution_count": 35,
   "metadata": {
    "nbgrader": {
     "grade": false,
     "grade_id": "cell-8f60fc2f7f9272be",
     "locked": true,
     "schema_version": 1,
     "solution": false
    }
   },
   "outputs": [],
   "source": [
    "cgm2[\"dvdt\"] = cgm2[\"ValueDelta\"]/cgm2[\"TimeDelta\"].dt.seconds"
   ]
  },
  {
   "cell_type": "code",
   "execution_count": 36,
   "metadata": {
    "nbgrader": {
     "grade": true,
     "grade_id": "cell-d95528acbad541a5",
     "locked": true,
     "points": 10,
     "schema_version": 1,
     "solution": false
    }
   },
   "outputs": [],
   "source": [
    "assert_almost_equal(cgm2[cgm2.Subject==\"UU U\"][\"dvdt\"].max(), 0.10333333333333333)"
   ]
  },
  {
   "cell_type": "markdown",
   "metadata": {},
   "source": [
    "### You can use the cell below to explore the data.\n",
    "![Exploring data](./exploring.png)"
   ]
  },
  {
   "cell_type": "code",
   "execution_count": 37,
   "metadata": {},
   "outputs": [
    {
     "data": {
      "application/vnd.jupyter.widget-view+json": {
       "model_id": "8365b17cf2ea4ba28b1ba50c89a4105c",
       "version_major": 2,
       "version_minor": 0
      },
      "text/plain": [
       "interactive(children=(Dropdown(description='_id', options=('UU A', 'UU B', 'UU C', 'UU D', 'UU E', 'UU F', 'UU…"
      ]
     },
     "metadata": {},
     "output_type": "display_data"
    }
   ],
   "source": [
    "ids = list(cgm2.Subject.unique())\n",
    "ids.sort()\n",
    "@interact(df=fixed(cgm2) , _id=ids, col=[\"dvdt\", \"Blood Glucose (mg/dl)\"])\n",
    "def disp_delta(df, _id, col):\n",
    "    df[(df.Subject==_id)& (df.TimeDelta.notnull())].plot(x=\"MeasurementTime\", y=col)"
   ]
  },
  {
   "cell_type": "code",
   "execution_count": null,
   "metadata": {},
   "outputs": [],
   "source": []
  }
 ],
 "metadata": {
  "anaconda-cloud": {},
  "celltoolbar": "Create Assignment",
  "kernelspec": {
   "display_name": "Python 3",
   "language": "python",
   "name": "python3"
  },
  "language_info": {
   "codemirror_mode": {
    "name": "ipython",
    "version": 3
   },
   "file_extension": ".py",
   "mimetype": "text/x-python",
   "name": "python",
   "nbconvert_exporter": "python",
   "pygments_lexer": "ipython3",
   "version": "3.5.5"
  }
 },
 "nbformat": 4,
 "nbformat_minor": 1
}
