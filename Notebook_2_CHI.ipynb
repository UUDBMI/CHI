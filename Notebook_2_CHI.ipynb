{
 "cells": [
  {
   "cell_type": "markdown",
   "metadata": {
    "slideshow": {
     "slide_type": "slide"
    }
   },
   "source": [
    "## Introduction\n",
    "\n",
    "## In this class  we discuss Consumer health informatics and provide some examples of the kinds of data collected, the analyses performed, and visulizations used to educate and motivate individuals with type 2 diabetes as an example. "
   ]
  },
  {
   "cell_type": "markdown",
   "metadata": {},
   "source": [
    "### CGM Data\n",
    "### Go here to learn more about what a [continuous glucose monitor](https://www.niddk.nih.gov/health-information/diabetes/overview/managing-diabetes/continuous-glucose-monitoring) is"
   ]
  },
  {
   "attachments": {},
   "cell_type": "markdown",
   "metadata": {
    "slideshow": {
     "slide_type": "-"
    }
   },
   "source": [
    "### Open the following slides, which are in your CHI folder: \"CHI_Lecture.pdf\""
   ]
  },
  {
   "cell_type": "markdown",
   "metadata": {
    "slideshow": {
     "slide_type": "-"
    }
   },
   "source": [
    "require(dplyr)\n",
    "cgm<- read.csv (\"CGM_vals.csv\", header=T, na.strings=\"\")\n",
    "cgm$DisplayTime<-  strptime(cgm$DisplayTime, format = \"%m/%d/%Y %H:%M\", tz = \"\")\n",
    "cgm$DisplayTime<- as.POSIXct(cgm$DisplayTime)\n",
    "\n",
    "cgm$bg.value<- cgm$Value\n",
    "cgm<- arrange(cgm, ID)"
   ]
  },
  {
   "cell_type": "markdown",
   "metadata": {},
   "source": [
    "##  Intensity data"
   ]
  },
  {
   "cell_type": "code",
   "execution_count": 2,
   "metadata": {},
   "outputs": [],
   "source": [
    "pa.intensity<- read.csv (\"Intensity.csv\", header=T, na.strings=\"\")\n",
    "pa.intensity$ActivityMinute<-  strptime(pa.intensity$ActivityMinute, format = \"%m/%d/%Y %H:%M\", tz = \"\")\n",
    "pa.intensity$ActivityMinute <- as.POSIXct(pa.intensity$ActivityMinute)\n",
    "pa.intensity$ID<- pa.intensity$id\n",
    "\n",
    "pa.intensity<- arrange(pa.intensity,ID)"
   ]
  },
  {
   "cell_type": "markdown",
   "metadata": {},
   "source": [
    "## Steps Data"
   ]
  },
  {
   "cell_type": "code",
   "execution_count": 3,
   "metadata": {},
   "outputs": [
    {
     "data": {
      "text/html": [
       "<ol class=list-inline>\n",
       "\t<li>'ID'</li>\n",
       "\t<li>'ActivityMinute'</li>\n",
       "\t<li>'steps'</li>\n",
       "</ol>\n"
      ],
      "text/latex": [
       "\\begin{enumerate*}\n",
       "\\item 'ID'\n",
       "\\item 'ActivityMinute'\n",
       "\\item 'steps'\n",
       "\\end{enumerate*}\n"
      ],
      "text/markdown": [
       "1. 'ID'\n",
       "2. 'ActivityMinute'\n",
       "3. 'steps'\n",
       "\n",
       "\n"
      ],
      "text/plain": [
       "[1] \"ID\"             \"ActivityMinute\" \"steps\"         "
      ]
     },
     "metadata": {},
     "output_type": "display_data"
    }
   ],
   "source": [
    "pa.steps <- read.csv (\"min_steps.csv\", header=T, na.strings=\"\")\n",
    "names(pa.steps)\n",
    "pa.steps$ActivityMinute <-  strptime(pa.steps$ActivityMinute, format = \"%m/%d/%Y %H:%M\", tz = \"\")\n",
    "pa.steps$ActivityMinute <- as.POSIXct(pa.steps$ActivityMinute)\n",
    "\n"
   ]
  },
  {
   "cell_type": "markdown",
   "metadata": {},
   "source": [
    "## Heart Rate"
   ]
  },
  {
   "cell_type": "code",
   "execution_count": 4,
   "metadata": {},
   "outputs": [
    {
     "data": {
      "text/html": [
       "<ol class=list-inline>\n",
       "\t<li>'ID'</li>\n",
       "\t<li>'Time'</li>\n",
       "\t<li>'Value'</li>\n",
       "</ol>\n"
      ],
      "text/latex": [
       "\\begin{enumerate*}\n",
       "\\item 'ID'\n",
       "\\item 'Time'\n",
       "\\item 'Value'\n",
       "\\end{enumerate*}\n"
      ],
      "text/markdown": [
       "1. 'ID'\n",
       "2. 'Time'\n",
       "3. 'Value'\n",
       "\n",
       "\n"
      ],
      "text/plain": [
       "[1] \"ID\"    \"Time\"  \"Value\""
      ]
     },
     "metadata": {},
     "output_type": "display_data"
    }
   ],
   "source": [
    "hr<- read.csv (\"hr.csv\", header=T, na.strings=\"\")\n",
    "names(hr)\n",
    "hr$Time<-  strptime(hr$Time, format = \"%m/%d/%Y %H:%M\", tz = \"\")\n",
    "hr$Time<- as.POSIXct(hr$Time)\n",
    "hr$hr.value<-hr$Value"
   ]
  },
  {
   "cell_type": "markdown",
   "metadata": {},
   "source": [
    "### Choose every 5th row of fibit data to match"
   ]
  },
  {
   "cell_type": "code",
   "execution_count": 5,
   "metadata": {},
   "outputs": [],
   "source": [
    "row.index.steps<-  1:nrow(pa.steps)\n",
    "choose.index.steps<- row.index.steps[seq(1,max(row.index.steps),5)]\n",
    "pa.steps<- pa.steps[c(choose.index.steps), ]\n",
    "\n",
    "row.index.intensity<-  1:nrow(pa.intensity)\n",
    "choose.index.intensity<- row.index.intensity[seq(1,max(row.index.intensity),5)]\n",
    "pa.intensity<- pa.intensity[c(choose.index.intensity), ]\n",
    "\n",
    "row.index.hr<-  1:nrow(hr)\n",
    "choose.index.hr<- row.index.hr[seq(1,max(row.index.hr),5)]\n",
    "hr<- hr[c(choose.index.hr), ]"
   ]
  },
  {
   "cell_type": "markdown",
   "metadata": {},
   "source": [
    "## Match CGM and FitBit Data"
   ]
  },
  {
   "cell_type": "code",
   "execution_count": 6,
   "metadata": {},
   "outputs": [],
   "source": [
    "require(dplyr)\n",
    "cgm<- arrange(cgm, ID)\n",
    "pa.steps<- arrange(pa.steps,ID)\n",
    "pa.intensity<- arrange(pa.intensity, ID)\n",
    "hr<- arrange(hr, ID)\n",
    "\n",
    "###\n",
    "res <- rep(0,length(cgm$ID))\n",
    "res2 <- rep(0,length(pa.steps$ID))\n",
    "res3 <- rep(0,length(pa.intensity$ID))\n",
    "res4 <- rep(0,length(hr$ID))\n",
    "\n",
    "\n",
    "for( i in 1:length(res)) res[i] <- ifelse(cgm$ID[i] %in% pa.steps$ID ==T, 1, 0)\n",
    "for( i in 1:length(res2)) res2[i] <- ifelse(pa.steps$ID[i] %in% cgm$ID ==T, 1, 0)\n",
    "for( i in 1:length(res3)) res3[i] <- ifelse(pa.intensity$ID[i] %in% cgm$ID ==T, 1, 0)\n",
    "for( i in 1:length(res4)) res4[i] <- ifelse(hr$ID[i] %in% cgm$ID ==T, 1, 0)\n",
    "\n",
    "\n",
    "cgm$match<- res\n",
    "pa.steps$match<-res2\n",
    "pa.intensity$match<-res3\n",
    "hr$match<-res4\n",
    "\n",
    "\n",
    "cgm<- subset(cgm, match==1)\n",
    "pa.steps<- subset(pa.steps, match==1)\n",
    "pa.intensity<- subset(pa.intensity, match==1)\n",
    "hr<- subset(hr, match==1)\n"
   ]
  },
  {
   "cell_type": "markdown",
   "metadata": {},
   "source": [
    " ## Create the combined dataset "
   ]
  },
  {
   "cell_type": "code",
   "execution_count": 7,
   "metadata": {},
   "outputs": [
    {
     "data": {
      "text/html": [
       "20"
      ],
      "text/latex": [
       "20"
      ],
      "text/markdown": [
       "20"
      ],
      "text/plain": [
       "[1] 20"
      ]
     },
     "metadata": {},
     "output_type": "display_data"
    },
    {
     "data": {
      "text/html": [
       "20"
      ],
      "text/latex": [
       "20"
      ],
      "text/markdown": [
       "20"
      ],
      "text/plain": [
       "[1] 20"
      ]
     },
     "metadata": {},
     "output_type": "display_data"
    },
    {
     "data": {
      "text/html": [
       "20"
      ],
      "text/latex": [
       "20"
      ],
      "text/markdown": [
       "20"
      ],
      "text/plain": [
       "[1] 20"
      ]
     },
     "metadata": {},
     "output_type": "display_data"
    },
    {
     "data": {
      "text/html": [
       "20"
      ],
      "text/latex": [
       "20"
      ],
      "text/markdown": [
       "20"
      ],
      "text/plain": [
       "[1] 20"
      ]
     },
     "metadata": {},
     "output_type": "display_data"
    },
    {
     "data": {
      "text/html": [
       "35771"
      ],
      "text/latex": [
       "35771"
      ],
      "text/markdown": [
       "35771"
      ],
      "text/plain": [
       "[1] 35771"
      ]
     },
     "metadata": {},
     "output_type": "display_data"
    },
    {
     "data": {
      "text/html": [
       "45792"
      ],
      "text/latex": [
       "45792"
      ],
      "text/markdown": [
       "45792"
      ],
      "text/plain": [
       "[1] 45792"
      ]
     },
     "metadata": {},
     "output_type": "display_data"
    },
    {
     "data": {
      "text/html": [
       "46080"
      ],
      "text/latex": [
       "46080"
      ],
      "text/markdown": [
       "46080"
      ],
      "text/plain": [
       "[1] 46080"
      ]
     },
     "metadata": {},
     "output_type": "display_data"
    },
    {
     "data": {
      "text/html": [
       "31260"
      ],
      "text/latex": [
       "31260"
      ],
      "text/markdown": [
       "31260"
      ],
      "text/plain": [
       "[1] 31260"
      ]
     },
     "metadata": {},
     "output_type": "display_data"
    }
   ],
   "source": [
    "length( unique(cgm$ID))\n",
    "length( unique(pa.steps$ID))\n",
    "length( unique(pa.intensity$ID))\n",
    "length( unique(hr$ID))\n",
    "\n",
    "nrow(cgm)\n",
    "nrow(pa.steps)\n",
    "nrow(pa.intensity)\n",
    "nrow(hr)\n",
    "\n",
    "hr<-hr[1:31260,c( \"ID\",\"Time\",\"hr.value\" )]\n",
    "cgm<- cgm[1:31260,c(\"ID\",\"bg.value\", \"DisplayTime\")]\n",
    "pa.steps<-pa.steps[1:31260,c(\"ID\",\"steps\") ]\n",
    "pa.intensity<-pa.intensity[1:31260, c(\"ID\",\"Intensity\")]\n",
    "\n",
    "combined<-cbind(hr,cgm,pa.steps,pa.intensity)\n",
    "combined <- combined[,c (1,3,5,6,8,10)]\n",
    "combined$bg.value<- as.integer(combined$bg.value)\n",
    "combined$Time <- format(combined$Time, \"%H:%M\")\n"
   ]
  },
  {
   "cell_type": "markdown",
   "metadata": {},
   "source": [
    "##   EXAMPLE PLOT OF DAILY GLUCOSE CURVE WITH CONTROL LINES"
   ]
  },
  {
   "cell_type": "code",
   "execution_count": 8,
   "metadata": {},
   "outputs": [
    {
     "data": {
      "image/png": "[encoded data removed]",
      "text/plain": [
       "plot without title"
      ]
     },
     "metadata": {},
     "output_type": "display_data"
    }
   ],
   "source": [
    "id<-5\n",
    "day<-3\n",
    "combined.id<-subset(combined,ID==id)\n",
    "low.index<- day*288\n",
    "high.index<-low.index +288\n",
    "plot(combined.id$DisplayTime[low.index:high.index],combined.id$bg.value[low.index:high.index],\n",
    "ylab=\"blood glucose\", xlab=\"Time\")\n",
    "abline(h=70, col=2)\n",
    "abline(h=180, col=2)"
   ]
  },
  {
   "cell_type": "markdown",
   "metadata": {},
   "source": [
    "###  CREATE  A LAG VARIABLE"
   ]
  },
  {
   "cell_type": "code",
   "execution_count": 9,
   "metadata": {},
   "outputs": [
    {
     "name": "stderr",
     "output_type": "stream",
     "text": [
      "Updating HTML index of packages in '.Library'\n",
      "Making 'packages.html' ... done\n",
      "Loading required package: DataCombine\n",
      "\n",
      "Lagging bg.value by 1 time units.\n",
      "\n"
     ]
    }
   ],
   "source": [
    "install.packages(\"DataCombine\")\n",
    "require(DataCombine)\n",
    "combined<-slide(combined, Var='bg.value', NewVar='bg.value.lag', TimeVar='DisplayTime', GroupVar='ID', slideBy=-1)\n",
    "combined<- subset(combined, is.na(bg.value.lag)==F )"
   ]
  },
  {
   "cell_type": "markdown",
   "metadata": {},
   "source": [
    "## CREATE A CUMULATIVE SUM STEPS VARIABLE TO USE AS A PREDICTOR"
   ]
  },
  {
   "cell_type": "code",
   "execution_count": 10,
   "metadata": {},
   "outputs": [],
   "source": [
    "combined$csum.steps <- ave(combined$steps, combined$ID, FUN=cumsum)"
   ]
  },
  {
   "cell_type": "markdown",
   "metadata": {},
   "source": [
    "## MODEL THE EFFECTS OF ACTIVITY  ON GLUCOSE ACCOUTING FOR PRIOR GLUCOSE"
   ]
  },
  {
   "cell_type": "code",
   "execution_count": 11,
   "metadata": {},
   "outputs": [
    {
     "name": "stderr",
     "output_type": "stream",
     "text": [
      "Loading required package: nlme\n",
      "\n",
      "Attaching package: ‘nlme’\n",
      "\n",
      "The following object is masked from ‘package:dplyr’:\n",
      "\n",
      "    collapse\n",
      "\n"
     ]
    },
    {
     "data": {
      "text/plain": [
       "Linear mixed-effects model fit by REML\n",
       " Data: combined \n",
       "     AIC      BIC    logLik\n",
       "  335673 335731.5 -167829.5\n",
       "\n",
       "Random effects:\n",
       " Formula: ~1 | ID\n",
       "        (Intercept) Residual\n",
       "StdDev:    4.649165 52.04541\n",
       "\n",
       "Fixed effects: bg.value ~ bg.value.lag + csum.steps + hr.value + Intensity \n",
       "                 Value Std.Error    DF  t-value p-value\n",
       "(Intercept)  13.847014 2.0959054 31216   6.6067  0.0000\n",
       "bg.value.lag  0.900762 0.0024569 31216 366.6241  0.0000\n",
       "csum.steps   -0.000197 0.0001087 31216  -1.8095  0.0704\n",
       "hr.value     -0.010500 0.0209799 31216  -0.5005  0.6168\n",
       "Intensity    -0.771203 0.5905238 31216  -1.3060  0.1916\n",
       " Correlation: \n",
       "             (Intr) bg.vl. csm.st hr.val\n",
       "bg.value.lag -0.151                     \n",
       "csum.steps   -0.149  0.039              \n",
       "hr.value     -0.816  0.000 -0.059       \n",
       "Intensity    -0.012  0.026 -0.044 -0.056\n",
       "\n",
       "Standardized Within-Group Residuals:\n",
       "        Min          Q1         Med          Q3         Max \n",
       "-6.54664833 -0.17049585 -0.06400235  0.17662376  6.74218030 \n",
       "\n",
       "Number of Observations: 31240\n",
       "Number of Groups: 20 "
      ]
     },
     "metadata": {},
     "output_type": "display_data"
    }
   ],
   "source": [
    "require(nlme)\n",
    "mdl<- lme(bg.value~  bg.value.lag + csum.steps + hr.value + Intensity, random=~1|ID, data=combined)\n",
    "summary(mdl)"
   ]
  },
  {
   "cell_type": "markdown",
   "metadata": {},
   "source": [
    "## FINAL MODEL "
   ]
  },
  {
   "cell_type": "code",
   "execution_count": 12,
   "metadata": {},
   "outputs": [
    {
     "data": {
      "text/plain": [
       "Linear mixed-effects model fit by REML\n",
       " Data: combined \n",
       "       AIC      BIC  logLik\n",
       "  335665.9 335707.7 -167828\n",
       "\n",
       "Random effects:\n",
       " Formula: ~1 | ID\n",
       "        (Intercept) Residual\n",
       "StdDev:    4.628463 52.04557\n",
       "\n",
       "Fixed effects: bg.value ~ bg.value.lag + csum.steps \n",
       "                 Value Std.Error    DF  t-value p-value\n",
       "(Intercept)  12.827472 1.2001580 31218  10.6882  0.0000\n",
       "bg.value.lag  0.900856 0.0024560 31218 366.8044  0.0000\n",
       "csum.steps   -0.000207 0.0001084 31218  -1.9070  0.0565\n",
       " Correlation: \n",
       "             (Intr) bg.vl.\n",
       "bg.value.lag -0.263       \n",
       "csum.steps   -0.351  0.040\n",
       "\n",
       "Standardized Within-Group Residuals:\n",
       "        Min          Q1         Med          Q3         Max \n",
       "-6.53942703 -0.17010748 -0.06449656  0.17724661  6.74167231 \n",
       "\n",
       "Number of Observations: 31240\n",
       "Number of Groups: 20 "
      ]
     },
     "metadata": {},
     "output_type": "display_data"
    }
   ],
   "source": [
    "mdl<- lme(bg.value~  bg.value.lag + csum.steps , random=~1|ID, data=combined)\n",
    "summary(mdl)\n"
   ]
  },
  {
   "cell_type": "code",
   "execution_count": null,
   "metadata": {},
   "outputs": [],
   "source": []
  }
 ],
 "metadata": {
  "celltoolbar": "Slideshow",
  "kernelspec": {
   "display_name": "R",
   "language": "R",
   "name": "ir"
  },
  "language_info": {
   "codemirror_mode": "r",
   "file_extension": ".r",
   "mimetype": "text/x-r-source",
   "name": "R",
   "pygments_lexer": "r",
   "version": "3.4.1"
  }
 },
 "nbformat": 4,
 "nbformat_minor": 2
}
