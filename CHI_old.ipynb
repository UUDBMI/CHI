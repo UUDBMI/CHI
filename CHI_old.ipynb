{
 "cells": [
  {
   "cell_type": "markdown",
   "metadata": {
    "slideshow": {
     "slide_type": "-"
    }
   },
   "source": [
    "# CHI Notebook 2\n",
    "### This notebook is in R, and the goal is to answer some questions of the CGM data and explore visualization apps for CGM data"
   ]
  },
  {
   "cell_type": "markdown",
   "metadata": {
    "slideshow": {
     "slide_type": "slide"
    }
   },
   "source": [
    "## Introduction\n",
    "\n",
    "## In this class  we discuss Consumer health informatics and provide some examples of the kinds of data collected, the analyses performed, and visualizations used to educate and motivate individuals with type 2 diabetes as an example. "
   ]
  },
  {
   "cell_type": "markdown",
   "metadata": {},
   "source": [
    "### Continuous Glucose Monitoring (CGM) Data\n",
    "### we will be looking at the data from a [continuous glucose monitor](https://www.niddk.nih.gov/health-information/diabetes/overview/managing-diabetes/continuous-glucose-monitoring) \n",
    "### First we will read in a dataset of CGM data collected from volunteers for a research study\n",
    "### CGM data is collected every ____"
   ]
  },
  {
   "cell_type": "markdown",
   "metadata": {
    "slideshow": {
     "slide_type": "-"
    }
   },
   "source": [
    "require(dplyr)\n",
    "cgm<- read.csv (\"CGM_vals.csv\", header=T, na.strings=\"\")\n",
    "names(cgm)\n",
    "cgm$DisplayTime<-  strptime(cgm$DisplayTime, format = \"%m/%d/%Y %H:%M\", tz = \"\")\n",
    "cgm$DisplayTime<- as.POSIXct(cgm$DisplayTime)\n",
    "\n",
    "cgm$bg.value<- cgm$Value\n",
    "cgm<- arrange(cgm, ID)"
   ]
  },
  {
   "cell_type": "markdown",
   "metadata": {},
   "source": [
    "##  Intensity data\n",
    "### This data represents the amount of activity the user had "
   ]
  },
  {
   "cell_type": "code",
   "execution_count": 1,
   "metadata": {},
   "outputs": [
    {
     "data": {
      "text/html": [
       "<ol class=list-inline>\n",
       "\t<li>'id'</li>\n",
       "\t<li>'ActivityMinute'</li>\n",
       "\t<li>'Intensity'</li>\n",
       "</ol>\n"
      ],
      "text/latex": [
       "\\begin{enumerate*}\n",
       "\\item 'id'\n",
       "\\item 'ActivityMinute'\n",
       "\\item 'Intensity'\n",
       "\\end{enumerate*}\n"
      ],
      "text/markdown": [
       "1. 'id'\n",
       "2. 'ActivityMinute'\n",
       "3. 'Intensity'\n",
       "\n",
       "\n"
      ],
      "text/plain": [
       "[1] \"id\"             \"ActivityMinute\" \"Intensity\"     "
      ]
     },
     "metadata": {},
     "output_type": "display_data"
    },
    {
     "ename": "ERROR",
     "evalue": "Error in arrange(pa.intensity, ID): could not find function \"arrange\"\n",
     "output_type": "error",
     "traceback": [
      "Error in arrange(pa.intensity, ID): could not find function \"arrange\"\nTraceback:\n"
     ]
    }
   ],
   "source": [
    "pa.intensity<- read.csv (\"Intensity.csv\", header=T, na.strings=\"\")\n",
    "names(pa.intensity)\n",
    "pa.intensity$ActivityMinute<-  strptime(pa.intensity$ActivityMinute, format = \"%m/%d/%Y %H:%M\", tz = \"\")\n",
    "pa.intensity$ActivityMinute <- as.POSIXct(pa.intensity$ActivityMinute)\n",
    "pa.intensity$ID<- pa.intensity$id\n",
    "\n",
    "pa.steps<- arrange(pa.intensity,ID)"
   ]
  },
  {
   "cell_type": "markdown",
   "metadata": {},
   "source": [
    "## Steps Data"
   ]
  },
  {
   "cell_type": "code",
   "execution_count": null,
   "metadata": {},
   "outputs": [],
   "source": [
    "pa.steps <- read.csv (\"min_steps.csv\", header=T, na.strings=\"\")\n",
    "names(pa.steps)\n",
    "pa.steps$ActivityMinute <-  strptime(pa.steps$ActivityMinute, format = \"%m/%d/%Y %H:%M\", tz = \"\")\n",
    "pa.steps$ActivityMinute <- as.POSIXct(pa.steps$ActivityMinute)\n",
    "\n"
   ]
  },
  {
   "cell_type": "markdown",
   "metadata": {},
   "source": [
    "## Heart Rate"
   ]
  },
  {
   "cell_type": "code",
   "execution_count": 2,
   "metadata": {},
   "outputs": [
    {
     "data": {
      "text/html": [
       "<ol class=list-inline>\n",
       "\t<li>'ID'</li>\n",
       "\t<li>'Time'</li>\n",
       "\t<li>'Value'</li>\n",
       "</ol>\n"
      ],
      "text/latex": [
       "\\begin{enumerate*}\n",
       "\\item 'ID'\n",
       "\\item 'Time'\n",
       "\\item 'Value'\n",
       "\\end{enumerate*}\n"
      ],
      "text/markdown": [
       "1. 'ID'\n",
       "2. 'Time'\n",
       "3. 'Value'\n",
       "\n",
       "\n"
      ],
      "text/plain": [
       "[1] \"ID\"    \"Time\"  \"Value\""
      ]
     },
     "metadata": {},
     "output_type": "display_data"
    }
   ],
   "source": [
    "hr<- read.csv (\"hr.csv\", header=T, na.strings=\"\")\n",
    "names(hr)\n",
    "hr$Time<-  strptime(hr$Time, format = \"%m/%d/%Y %H:%M\", tz = \"\")\n",
    "hr$Time<- as.POSIXct(hr$Time)\n",
    "hr$hr.value<-hr$Value"
   ]
  },
  {
   "cell_type": "markdown",
   "metadata": {},
   "source": [
    "### Choose every 5th row of fibit data to match"
   ]
  },
  {
   "cell_type": "code",
   "execution_count": 4,
   "metadata": {},
   "outputs": [
    {
     "ename": "ERROR",
     "evalue": "Error in nrow(pa.steps): object 'pa.steps' not found\n",
     "output_type": "error",
     "traceback": [
      "Error in nrow(pa.steps): object 'pa.steps' not found\nTraceback:\n",
      "1. nrow(pa.steps)"
     ]
    }
   ],
   "source": [
    "row.index.steps<-  1:nrow(pa.steps)\n",
    "choose.index.steps<- row.index.steps[seq(1,max(row.index.steps),5)]\n",
    "pa.steps<- pa.steps[c(choose.index.steps), ]\n",
    "\n",
    "row.index.intensity<-  1:nrow(pa.intensity)\n",
    "choose.index.intensity<- row.index.intensity[seq(1,max(row.index.intensity),5)]\n",
    "pa.intensity<- pa.intensity[c(choose.index.intensity), ]\n",
    "\n",
    "row.index.hr<-  1:nrow(hr)\n",
    "choose.index.hr<- row.index.hr[seq(1,max(row.index.hr),5)]\n",
    "hr<- hr[c(choose.index.hr), ]"
   ]
  },
  {
   "cell_type": "markdown",
   "metadata": {},
   "source": [
    "## Match CGM and FitBit Data"
   ]
  },
  {
   "cell_type": "code",
   "execution_count": 9,
   "metadata": {},
   "outputs": [
    {
     "name": "stderr",
     "output_type": "stream",
     "text": [
      "Loading required package: dplyr\n",
      "\n",
      "Attaching package: ‘dplyr’\n",
      "\n",
      "The following objects are masked from ‘package:stats’:\n",
      "\n",
      "    filter, lag\n",
      "\n",
      "The following objects are masked from ‘package:base’:\n",
      "\n",
      "    intersect, setdiff, setequal, union\n",
      "\n"
     ]
    },
    {
     "ename": "ERROR",
     "evalue": "Error in arrange(cgm, ID): object 'cgm' not found\n",
     "output_type": "error",
     "traceback": [
      "Error in arrange(cgm, ID): object 'cgm' not found\nTraceback:\n",
      "1. arrange(cgm, ID)"
     ]
    }
   ],
   "source": [
    "require(dplyr)\n",
    "cgm<- arrange(cgm, ID)\n",
    "pa.steps<- arrange(pa.steps,ID)\n",
    "pa.intensity<- arrange(pa.intensity, ID)\n",
    "hr<- arrange(hr, ID)\n",
    "\n",
    "###\n",
    "res <- rep(0,length(cgm$ID))\n",
    "res2 <- rep(0,length(pa.steps$ID))\n",
    "res3 <- rep(0,length(pa.intensity$ID))\n",
    "res4 <- rep(0,length(hr$ID))\n",
    "\n",
    "\n",
    "for( i in 1:length(res)) res[i] <- ifelse(cgm$ID[i] %in% pa.steps$ID ==T, 1, 0)\n",
    "for( i in 1:length(res2)) res2[i] <- ifelse(pa.steps$ID[i] %in% cgm$ID ==T, 1, 0)\n",
    "for( i in 1:length(res3)) res3[i] <- ifelse(pa.intensity$ID[i] %in% cgm$ID ==T, 1, 0)\n",
    "for( i in 1:length(res4)) res4[i] <- ifelse(hr$ID[i] %in% cgm$ID ==T, 1, 0)\n",
    "\n",
    "\n",
    "cgm$match<- res\n",
    "pa.steps$match<-res2\n",
    "pa.intensity$match<-res3\n",
    "hr$match<-res4\n",
    "\n",
    "\n",
    "cgm<- subset(cgm, match==1)\n",
    "pa.steps<- subset(pa.steps, match==1)\n",
    "pa.intensity<- subset(pa.intensity, match==1)\n",
    "hr<- subset(hr, match==1)\n"
   ]
  },
  {
   "cell_type": "markdown",
   "metadata": {},
   "source": [
    " ## Create the combined dataset "
   ]
  },
  {
   "cell_type": "code",
   "execution_count": null,
   "metadata": {},
   "outputs": [],
   "source": [
    "length( unique(cgm$ID))\n",
    "length( unique(pa.steps$ID))\n",
    "length( unique(pa.intensity$ID))\n",
    "length( unique(hr$ID))\n",
    "\n",
    "nrow(cgm)\n",
    "nrow(pa.steps)\n",
    "nrow(pa.intensity)\n",
    "nrow(hr)\n",
    "\n",
    "hr<-hr[1:31260,c( \"ID\",\"Time\",\"hr.value\" )]\n",
    "cgm<- cgm[1:31260,c(\"ID\",\"bg.value\", \"DisplayTime\")]\n",
    "pa.steps<-pa.steps[1:31260,c(\"ID\",\"steps\") ]\n",
    "pa.intensity<-pa.intensity[1:31260, c(\"ID\",\"Intensity\")]\n",
    "\n",
    "combined<-cbind(hr,cgm,pa.steps,pa.intensity)\n",
    "combined <- combined[,c (1,3,5,6,8,10)]\n",
    "combined$bg.value<- as.integer(combined$bg.value)\n",
    "combined$Time <- format(combined$Time, \"%H:%M\")\n"
   ]
  },
  {
   "cell_type": "markdown",
   "metadata": {},
   "source": [
    "##   EXAMPLE PLOT OF DAILY GLUCOSE CURVE WITH CONTROL LINES"
   ]
  },
  {
   "cell_type": "code",
   "execution_count": null,
   "metadata": {},
   "outputs": [],
   "source": [
    "id<-5\n",
    "day<-3\n",
    "combined.id<-subset(combined,ID==id)\n",
    "low.index<- day*288\n",
    "high.index<-low.index +288\n",
    "plot(combined.id$DisplayTime[low.index:high.index],combined.id$bg.value[low.index:high.index],\n",
    "ylab=\"blood glucose\", xlab=\"Time\")\n",
    "abline(h=70, col=2)\n",
    "abline(h=180, col=2)"
   ]
  },
  {
   "cell_type": "markdown",
   "metadata": {},
   "source": [
    "###  CREATE  A LAG VARIABLE"
   ]
  },
  {
   "cell_type": "code",
   "execution_count": null,
   "metadata": {},
   "outputs": [],
   "source": [
    "require(DataCombine)\n",
    "combined<-slide(combined, Var='bg.value', NewVar='bg.value.lag', TimeVar='DisplayTime', GroupVar='ID', slideBy=-1)\n",
    "combined<- subset(combined, is.na(bg.value.lag)==F )"
   ]
  },
  {
   "cell_type": "markdown",
   "metadata": {},
   "source": [
    "## CREATE A CUMULATIVE SUM STEPS VARIABLE TO USE AS A PREDICTOR"
   ]
  },
  {
   "cell_type": "code",
   "execution_count": null,
   "metadata": {},
   "outputs": [],
   "source": [
    "combined$csum.steps <- ave(combined$steps, combined$ID, FUN=cumsum)"
   ]
  },
  {
   "cell_type": "markdown",
   "metadata": {},
   "source": [
    "## MODEL THE EFFECTS OF ACTIVITY  ON GLUCOSE ACCOUTING FOR PRIOR GLUCOSE"
   ]
  },
  {
   "cell_type": "code",
   "execution_count": null,
   "metadata": {},
   "outputs": [],
   "source": [
    "mdl<- lme(bg.value~  bg.value.lag + csum.steps + hr.value + Intensity, random=~1|ID, data=combined)\n",
    "summary(mdl)"
   ]
  },
  {
   "cell_type": "markdown",
   "metadata": {},
   "source": [
    "## IMPROVED MODEL "
   ]
  },
  {
   "cell_type": "code",
   "execution_count": null,
   "metadata": {},
   "outputs": [],
   "source": [
    "mdl<- lme(bg.value~  bg.value.lag + csum.steps , random=~1|ID, data=combined)\n",
    "summary(mdl)\n"
   ]
  }
 ],
 "metadata": {
  "kernelspec": {
   "display_name": "R",
   "language": "R",
   "name": "ir"
  },
  "language_info": {
   "codemirror_mode": "r",
   "file_extension": ".r",
   "mimetype": "text/x-r-source",
   "name": "R",
   "pygments_lexer": "r",
   "version": "3.4.1"
  }
 },
 "nbformat": 4,
 "nbformat_minor": 2
}
